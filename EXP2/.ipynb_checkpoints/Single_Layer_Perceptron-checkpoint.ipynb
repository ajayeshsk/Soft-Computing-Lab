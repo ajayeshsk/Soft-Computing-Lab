{
 "cells": [
  {
   "cell_type": "code",
   "execution_count": 156,
   "id": "61a0a5ed-c6db-475f-8c5a-7bcc818b888d",
   "metadata": {},
   "outputs": [],
   "source": [
    "import numpy as np"
   ]
  },
  {
   "cell_type": "markdown",
   "id": "7bcbca3b-81d7-4200-827d-bc33269214da",
   "metadata": {},
   "source": [
    "### Input"
   ]
  },
  {
   "cell_type": "code",
   "execution_count": 158,
   "id": "f1998628-69ec-4e21-a6d3-43f140c45115",
   "metadata": {},
   "outputs": [
    {
     "name": "stdout",
     "output_type": "stream",
     "text": [
      "X.shape=(2, 4)\n"
     ]
    },
    {
     "data": {
      "text/plain": [
       "array([[0, 0, 1, 1],\n",
       "       [0, 1, 0, 1]])"
      ]
     },
     "execution_count": 158,
     "metadata": {},
     "output_type": "execute_result"
    }
   ],
   "source": [
    "X = np.array([[0, 0, 1, 1], [0, 1, 0, 1]])\n",
    "print(f'{X.shape=}')\n",
    "X"
   ]
  },
  {
   "cell_type": "code",
   "execution_count": 159,
   "id": "fadea9a8-7f68-454c-b192-6ba8edca7554",
   "metadata": {},
   "outputs": [
    {
     "name": "stdout",
     "output_type": "stream",
     "text": [
      "t.shape=(1, 4)\n"
     ]
    },
    {
     "data": {
      "text/plain": [
       "array([[0, 1, 1, 1]])"
      ]
     },
     "execution_count": 159,
     "metadata": {},
     "output_type": "execute_result"
    }
   ],
   "source": [
    "t = np.array([[0, 0, 0, 1]])\n",
    "print(f'{t.shape=}')\n",
    "t"
   ]
  },
  {
   "cell_type": "markdown",
   "id": "c79c562b-3b21-4238-9139-ff49795131e5",
   "metadata": {},
   "source": [
    "### Add bias"
   ]
  },
  {
   "cell_type": "code",
   "execution_count": 161,
   "id": "9c989d38-54d4-48dc-9460-92bd438b5b96",
   "metadata": {},
   "outputs": [
    {
     "data": {
      "text/plain": [
       "array([[1., 1., 1., 1.],\n",
       "       [0., 0., 1., 1.],\n",
       "       [0., 1., 0., 1.]])"
      ]
     },
     "execution_count": 161,
     "metadata": {},
     "output_type": "execute_result"
    }
   ],
   "source": [
    "A = np.vstack((np.ones((1, 4)), X))\n",
    "A"
   ]
  },
  {
   "cell_type": "markdown",
   "id": "7b667f7a-5bdd-4cd1-8dfa-61b7dfe675b4",
   "metadata": {},
   "source": [
    "### Initialize weights"
   ]
  },
  {
   "cell_type": "code",
   "execution_count": 163,
   "id": "83bda3d9-d479-4877-91e4-02c5ad2882c1",
   "metadata": {},
   "outputs": [
    {
     "name": "stdout",
     "output_type": "stream",
     "text": [
      "W.shape=(1, 3)\n"
     ]
    }
   ],
   "source": [
    "W = np.array([[0, 0, 0]])\n",
    "print(f'{W.shape=}')"
   ]
  },
  {
   "cell_type": "code",
   "execution_count": 164,
   "id": "b6059cc1-9088-4c2b-becc-a87096cb7811",
   "metadata": {},
   "outputs": [],
   "source": [
    "MAX_EPOCH = 10"
   ]
  },
  {
   "cell_type": "markdown",
   "id": "f8369c53-2fc5-422f-818a-701627d0b109",
   "metadata": {},
   "source": [
    "### Perceptron learning"
   ]
  },
  {
   "cell_type": "code",
   "execution_count": 166,
   "id": "b6ccc882-6716-451a-a821-b67eef4159c4",
   "metadata": {},
   "outputs": [
    {
     "name": "stdout",
     "output_type": "stream",
     "text": [
      "Epoch- 1 ==================================================\n",
      "Update: W-x\n",
      "[1. 0. 0.] 0 [0.] [[-1.  0.  0.]]\n",
      "Update: W+x\n",
      "[1. 0. 1.] 1 [-1.] [[0. 0. 1.]]\n",
      "[1. 1. 0.] 1 [0.] [[0. 0. 1.]]\n",
      "[1. 1. 1.] 1 [1.] [[0. 0. 1.]]\n",
      "Epoch- 2 ==================================================\n",
      "Update: W-x\n",
      "[1. 0. 0.] 0 [0.] [[-1.  0.  1.]]\n",
      "[1. 0. 1.] 1 [0.] [[-1.  0.  1.]]\n",
      "Update: W+x\n",
      "[1. 1. 0.] 1 [-1.] [[0. 1. 1.]]\n",
      "[1. 1. 1.] 1 [2.] [[0. 1. 1.]]\n",
      "Epoch- 3 ==================================================\n",
      "Update: W-x\n",
      "[1. 0. 0.] 0 [0.] [[-1.  1.  1.]]\n",
      "[1. 0. 1.] 1 [0.] [[-1.  1.  1.]]\n",
      "[1. 1. 0.] 1 [0.] [[-1.  1.  1.]]\n",
      "[1. 1. 1.] 1 [1.] [[-1.  1.  1.]]\n",
      "Epoch- 4 ==================================================\n",
      "[1. 0. 0.] 0 [-1.] [[-1.  1.  1.]]\n",
      "[1. 0. 1.] 1 [0.] [[-1.  1.  1.]]\n",
      "[1. 1. 0.] 1 [0.] [[-1.  1.  1.]]\n",
      "[1. 1. 1.] 1 [1.] [[-1.  1.  1.]]\n",
      "Final weights:  [[-1.  1.  1.]]\n"
     ]
    }
   ],
   "source": [
    "for ep in range(MAX_EPOCH):\n",
    "    print('Epoch-', ep+1, '='*50)\n",
    "    isConv = True\n",
    "    for x, y in zip(A.T, t.ravel()):\n",
    "        Z = W @ x.T\n",
    "        # Actually from positive but predicted as negative\n",
    "        if y>0 and Z < 0:\n",
    "            W = W + x\n",
    "            isConv = False\n",
    "            print('Update: W+x')\n",
    "        # Actually from negative but predicted as positive\n",
    "        if y<1 and Z >= 0:\n",
    "            W = W - x    \n",
    "            isConv = False\n",
    "            print('Update: W-x')\n",
    "        print(x, y, Z, W)\n",
    "    if isConv:\n",
    "        print('Final weights: ', W)\n",
    "        break"
   ]
  },
  {
   "cell_type": "code",
   "execution_count": null,
   "id": "e2be5231-7112-4f7c-9c2b-83a691584b04",
   "metadata": {},
   "outputs": [],
   "source": []
  },
  {
   "cell_type": "code",
   "execution_count": 167,
   "id": "81b25c90-c56e-45e6-8363-1aa9b147f0bf",
   "metadata": {},
   "outputs": [
    {
     "name": "stdout",
     "output_type": "stream",
     "text": [
      "y_pred=[0, 1, 1, 1]\n"
     ]
    }
   ],
   "source": [
    "Z = W @ A\n",
    "y_pred = [int(pred >= 0) for pred in Z.ravel()]\n",
    "print(f'{y_pred=}')"
   ]
  },
  {
   "cell_type": "code",
   "execution_count": null,
   "id": "ed1d56d4-3367-4748-b4f5-389f890ab80c",
   "metadata": {},
   "outputs": [],
   "source": []
  }
 ],
 "metadata": {
  "kernelspec": {
   "display_name": "Python 3 (ipykernel)",
   "language": "python",
   "name": "python3"
  },
  "language_info": {
   "codemirror_mode": {
    "name": "ipython",
    "version": 3
   },
   "file_extension": ".py",
   "mimetype": "text/x-python",
   "name": "python",
   "nbconvert_exporter": "python",
   "pygments_lexer": "ipython3",
   "version": "3.11.11"
  }
 },
 "nbformat": 4,
 "nbformat_minor": 5
}
