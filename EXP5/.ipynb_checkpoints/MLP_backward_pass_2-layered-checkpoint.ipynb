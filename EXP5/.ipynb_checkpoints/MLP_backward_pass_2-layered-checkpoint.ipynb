{
 "cells": [
  {
   "cell_type": "code",
   "execution_count": 150,
   "id": "01ea614d",
   "metadata": {},
   "outputs": [],
   "source": [
    "import numpy as np\n",
    "np.set_printoptions(precision=4)"
   ]
  },
  {
   "cell_type": "code",
   "execution_count": 151,
   "id": "79e0a92c",
   "metadata": {},
   "outputs": [],
   "source": [
    "W_0 = np.array([[1, -1],\n",
    "                [-1, -1]], dtype=float)"
   ]
  },
  {
   "cell_type": "code",
   "execution_count": 152,
   "id": "972991eb",
   "metadata": {},
   "outputs": [],
   "source": [
    "W_1 = np.array([[1, 0],], dtype=float)"
   ]
  },
  {
   "cell_type": "code",
   "execution_count": 153,
   "id": "50371761",
   "metadata": {},
   "outputs": [],
   "source": [
    "X = np.array([[1, 1],\n",
    "              [0, 1],], dtype=float)"
   ]
  },
  {
   "cell_type": "code",
   "execution_count": 154,
   "id": "0ec697a3",
   "metadata": {},
   "outputs": [],
   "source": [
    "t = np.array([[0.5, 1],], dtype=float)"
   ]
  },
  {
   "cell_type": "code",
   "execution_count": 155,
   "id": "6d989bcc",
   "metadata": {},
   "outputs": [],
   "source": [
    "f_1 = 'BSigmoid'\n",
    "f_2 = 'USigmoid'"
   ]
  },
  {
   "cell_type": "code",
   "execution_count": 156,
   "id": "252fe542",
   "metadata": {},
   "outputs": [],
   "source": [
    "lr = 0.1"
   ]
  },
  {
   "cell_type": "code",
   "execution_count": 157,
   "id": "1d2fc18d",
   "metadata": {},
   "outputs": [],
   "source": [
    "def USigmoid(x, direction):\n",
    "    if direction == 'F':\n",
    "        return 1/(1 + np.exp(-x))\n",
    "    else:\n",
    "        return USigmoid(x, 'F')*(1-USigmoid(x, 'F'))\n",
    "\n",
    "def BSigmoid(x, direction):\n",
    "    if direction == 'F':\n",
    "        return (1 - np.exp(-x))/(1 + np.exp(-x))\n",
    "    else:\n",
    "        return 0.5*(1-BSigmoid(x, 'F')**2) \n",
    "\n",
    "def Tanh(x, direction):\n",
    "    if direction == 'F':\n",
    "        return (1 - np.exp(-x))/(1 + np.exp(-x))\n",
    "    else:\n",
    "        return 0.5*(1-Tanh(x, 'F')**2) \n",
    "\n",
    "def ReLU(x, direction):\n",
    "    if direction == 'F':\n",
    "        return max(x, 0)\n",
    "    else:\n",
    "        return float(x > 0)\n",
    "\n",
    "def Lin(x, direction):\n",
    "    if direction == 'F':\n",
    "        return x\n",
    "    else:\n",
    "        return 1\n",
    "\n",
    "def activation(Z, fcn='Lin', direction = 'F'):\n",
    "    A = np.array(list(map(globals()[fcn], Z, np.repeat(direction, Z.shape[0]))))\n",
    "    return A"
   ]
  },
  {
   "cell_type": "code",
   "execution_count": 158,
   "id": "4d0c8bfc",
   "metadata": {},
   "outputs": [],
   "source": [
    "MAX_EPOCHS = 1"
   ]
  },
  {
   "cell_type": "code",
   "execution_count": 159,
   "id": "96f032e9",
   "metadata": {},
   "outputs": [
    {
     "name": "stdout",
     "output_type": "stream",
     "text": [
      "\n",
      "EPOCH- 1 ================================================================================\n"
     ]
    },
    {
     "ename": "TypeError",
     "evalue": "'numpy.float64' object is not iterable",
     "output_type": "error",
     "traceback": [
      "\u001b[1;31m---------------------------------------------------------------------------\u001b[0m",
      "\u001b[1;31mTypeError\u001b[0m                                 Traceback (most recent call last)",
      "Cell \u001b[1;32mIn[159], line 3\u001b[0m\n\u001b[0;32m      1\u001b[0m \u001b[38;5;28;01mfor\u001b[39;00m ep \u001b[38;5;129;01min\u001b[39;00m \u001b[38;5;28mrange\u001b[39m(MAX_EPOCHS):\n\u001b[0;32m      2\u001b[0m     \u001b[38;5;28mprint\u001b[39m(\u001b[38;5;124m'\u001b[39m\u001b[38;5;130;01m\\n\u001b[39;00m\u001b[38;5;124mEPOCH-\u001b[39m\u001b[38;5;124m'\u001b[39m, ep\u001b[38;5;241m+\u001b[39m\u001b[38;5;241m1\u001b[39m, \u001b[38;5;124m'\u001b[39m\u001b[38;5;124m=\u001b[39m\u001b[38;5;124m'\u001b[39m\u001b[38;5;241m*\u001b[39m\u001b[38;5;241m80\u001b[39m)\n\u001b[1;32m----> 3\u001b[0m     \u001b[38;5;28;01mfor\u001b[39;00m itr, (x, y) \u001b[38;5;129;01min\u001b[39;00m \u001b[38;5;28menumerate\u001b[39m(\u001b[38;5;28mzip\u001b[39m(A_0\u001b[38;5;241m.\u001b[39mT, t\u001b[38;5;241m.\u001b[39mT)):\n\u001b[0;32m      4\u001b[0m         \u001b[38;5;28mprint\u001b[39m(\u001b[38;5;124m'\u001b[39m\u001b[38;5;130;01m\\n\u001b[39;00m\u001b[38;5;124mITER-\u001b[39m\u001b[38;5;124m'\u001b[39m, itr\u001b[38;5;241m+\u001b[39m\u001b[38;5;241m1\u001b[39m, \u001b[38;5;124m'\u001b[39m\u001b[38;5;124m-\u001b[39m\u001b[38;5;124m'\u001b[39m\u001b[38;5;241m*\u001b[39m\u001b[38;5;241m80\u001b[39m)\n\u001b[0;32m      6\u001b[0m         \u001b[38;5;66;03m### Forward pass (Input -> Hidden)\u001b[39;00m\n",
      "\u001b[1;31mTypeError\u001b[0m: 'numpy.float64' object is not iterable"
     ]
    }
   ],
   "source": [
    "for ep in range(MAX_EPOCHS):\n",
    "    print('\\nEPOCH-', ep+1, '='*80)\n",
    "    for itr, (x, y) in enumerate(zip(X.T, t.T)):\n",
    "        print('\\nITER-', itr+1, '-'*80)\n",
    "        \n",
    "        ### Forward pass (Input -> Hidden)\n",
    "        if X.shape[0] == W_0.shape[1]:\n",
    "            print('No bias')\n",
    "            A_0 = x.reshape(-1, 1)\n",
    "        else:\n",
    "            print('Pad bias at top of input')\n",
    "            A_0 = np.vstack((np.ones((1, x.shape[1])), x))\n",
    "        print(f'{A_0 = }')\n",
    "\n",
    "        print('\\nInput -> Hidden')\n",
    "        Z_1 = (W_0 @ A_0).reshape(-1, 1)\n",
    "        print(f'    {Z_1 = }')\n",
    "        A_1 = activation(Z_1, f_1)\n",
    "        print(f'    {A_1 = }')\n",
    "        \n",
    "        ### Forward pass (Hidden -> Output)\n",
    "        print('\\nHidden -> Output')\n",
    "        if A_1.shape[0] == W_1.shape[1]:\n",
    "            print('No bias')\n",
    "        else:\n",
    "            print('Pad bias at top of A1')\n",
    "            A_1 = np.vstack((np.ones((1, A_1.shape[1])), A_1))\n",
    "            print(f'    {A_1 = }')\n",
    "\n",
    "        Z_2 = (W_1 @ A_1).reshape(-1, 1)\n",
    "        print(f'    {Z_2 = }')\n",
    "        A_2 = activation(Z_2, f_2)  \n",
    "        print(f'    {A_2 = }')\n",
    "        \n",
    "        ### Backward pass (Output -> Hidden)\n",
    "        Error = 0.5*(A_2 - y)**2\n",
    "        print(f'\\n{Error = }')\n",
    "        \n",
    "        print('\\nOutput -> Hidden')\n",
    "        dE_dw1 = (A_2 - y) * activation(Z_2, f_2, 'B') * A_1\n",
    "        print(f'    {dE_dw1 = }')\n",
    "        \n",
    "        ### Backward pass  (Hidden -> Input)\n",
    "        print('\\nHidden -> Input')\n",
    "        if A_1.shape[0] == W_1.shape[1]: # No bias in layer-1\n",
    "            dE_dw0 = (A_2 - y) * activation(Z_2, f_2, 'B') * (W_1 * activation(Z_1, f_1, 'B')) @ A_0 \n",
    "        else:\n",
    "            dE_dw0 = (A_2 - y) * activation(Z_2, f_2, 'B') * (W_1[:, 1:] * activation(Z_1, f_1, 'B')) @ A_0 \n",
    "        print(f'    {dE_dw0 = }')\n",
    "        \n",
    "        ### Update weights\n",
    "        print('\\nWeight update')\n",
    "        W_1 = W_1 - lr*dE_dw1\n",
    "        print(f'    {W_1 = }')\n",
    "        W_0 = W_0 - lr*dE_dw0\n",
    "        print(f'    {W_0 = }')"
   ]
  }
 ],
 "metadata": {
  "kernelspec": {
   "display_name": "Python 3 (ipykernel)",
   "language": "python",
   "name": "python3"
  },
  "language_info": {
   "codemirror_mode": {
    "name": "ipython",
    "version": 3
   },
   "file_extension": ".py",
   "mimetype": "text/x-python",
   "name": "python",
   "nbconvert_exporter": "python",
   "pygments_lexer": "ipython3",
   "version": "3.11.11"
  }
 },
 "nbformat": 4,
 "nbformat_minor": 5
}
