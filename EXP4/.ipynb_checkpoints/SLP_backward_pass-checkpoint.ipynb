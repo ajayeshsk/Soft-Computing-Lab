{
 "cells": [
  {
   "cell_type": "code",
   "execution_count": 10,
   "id": "01ea614d",
   "metadata": {},
   "outputs": [],
   "source": [
    "import numpy as np\n",
    "np.set_printoptions(precision=4)"
   ]
  },
  {
   "cell_type": "code",
   "execution_count": 11,
   "id": "79e0a92c",
   "metadata": {},
   "outputs": [],
   "source": [
    "W_0 = np.array([[1, 1, 1],], dtype=float)"
   ]
  },
  {
   "cell_type": "code",
   "execution_count": 12,
   "id": "50371761",
   "metadata": {},
   "outputs": [],
   "source": [
    "X = np.array([[1, 1, 1],\n",
    "              [3, 3, 3]], dtype=float)"
   ]
  },
  {
   "cell_type": "code",
   "execution_count": 13,
   "id": "0ec697a3",
   "metadata": {},
   "outputs": [],
   "source": [
    "t = np.array([[1, 1, 1],], dtype=float)"
   ]
  },
  {
   "cell_type": "code",
   "execution_count": 14,
   "id": "6d989bcc",
   "metadata": {},
   "outputs": [],
   "source": [
    "f_1 = 'USigmoid'"
   ]
  },
  {
   "cell_type": "code",
   "execution_count": 15,
   "id": "252fe542",
   "metadata": {},
   "outputs": [],
   "source": [
    "lr = 1"
   ]
  },
  {
   "cell_type": "code",
   "execution_count": 16,
   "id": "1d2fc18d",
   "metadata": {},
   "outputs": [],
   "source": [
    "def USigmoid(x, direction):\n",
    "    if direction == 'F':\n",
    "        return 1/(1 + np.exp(-x))\n",
    "    else:\n",
    "        return USigmoid(x, 'F')*(1-USigmoid(x, 'F'))\n",
    "\n",
    "def BSigmoid(x, direction):\n",
    "    if direction == 'F':\n",
    "        return (1 - np.exp(-x))/(1 + np.exp(-x))\n",
    "    else:\n",
    "        return 0.5*(1-BSigmoid(x, 'F')**2) \n",
    "\n",
    "def ReLU(x, direction):\n",
    "    if direction == 'F':\n",
    "        return max(x, 0)\n",
    "    else:\n",
    "        return float(x > 0)\n",
    "\n",
    "def Lin(x, direction):\n",
    "    if direction == 'F':\n",
    "        return x\n",
    "    else:\n",
    "        return 1\n",
    "\n",
    "def activation(Z, fcn='Lin', direction = 'F'):\n",
    "    A = np.array(list(map(globals()[fcn], Z, np.repeat(direction, Z.shape[0]))))\n",
    "    return A"
   ]
  },
  {
   "cell_type": "code",
   "execution_count": 17,
   "id": "4d0c8bfc",
   "metadata": {},
   "outputs": [],
   "source": [
    "MAX_EPOCHS = 1"
   ]
  },
  {
   "cell_type": "code",
   "execution_count": 18,
   "id": "96f032e9",
   "metadata": {},
   "outputs": [
    {
     "name": "stdout",
     "output_type": "stream",
     "text": [
      "Pad bias at top of input\n",
      "[[1. 1. 1.]\n",
      " [1. 1. 1.]\n",
      " [3. 3. 3.]]\n",
      "\n",
      "EPOCH- 1 ================================================================================\n",
      "\n",
      "ITER- 1 --------------------------------------------------------------------------------\n",
      "Input -> Output\n",
      "Z_1 = array([5.])\n",
      "A_1 = array([0.9933])\n",
      "\n",
      "Output -> Input\n",
      "Error = array([[2.2397e-05, 2.2397e-05, 2.2397e-05]])\n",
      "dE_dw = array([-4.4494e-05, -4.4494e-05, -1.3348e-04])\n",
      "W_0 = array([[1.    , 1.    , 1.0001]])\n",
      "\n",
      "ITER- 2 --------------------------------------------------------------------------------\n",
      "Input -> Output\n",
      "Z_1 = array([5.0005])\n",
      "A_1 = array([0.9933])\n",
      "\n",
      "Output -> Input\n",
      "Error = array([[2.2375e-05, 2.2375e-05, 2.2375e-05]])\n",
      "dE_dw = array([-4.4451e-05, -4.4451e-05, -1.3335e-04])\n",
      "W_0 = array([[1.0001, 1.0001, 1.0003]])\n",
      "\n",
      "ITER- 3 --------------------------------------------------------------------------------\n",
      "Input -> Output\n",
      "Z_1 = array([5.001])\n",
      "A_1 = array([0.9933])\n",
      "\n",
      "Output -> Input\n",
      "Error = array([[2.2354e-05, 2.2354e-05, 2.2354e-05]])\n",
      "dE_dw = array([-4.4408e-05, -4.4408e-05, -1.3323e-04])\n",
      "W_0 = array([[1.0001, 1.0001, 1.0004]])\n"
     ]
    }
   ],
   "source": [
    "print('Pad bias at top of input')\n",
    "A_0 = np.vstack((np.ones((1, X.shape[1])), X))\n",
    "print(A_0)\n",
    "for ep in range(MAX_EPOCHS):\n",
    "    print('\\nEPOCH-', ep+1, '='*80)\n",
    "    for itr, (x, y) in enumerate(zip(A_0.T, t.T)):\n",
    "        print('\\nITER-', itr+1, '-'*80)\n",
    "        ### Forward pass\n",
    "        print('Input -> Output')\n",
    "        Z_1 = W_0 @ x\n",
    "        print(f'{Z_1 = }')\n",
    "        A_1 = activation(Z_1, f_1)  \n",
    "        print(f'{A_1 = }')\n",
    "        \n",
    "        ### Backward pass\n",
    "        print('\\nOutput -> Input')\n",
    "        Error = 0.5*(A_1 - t)**2\n",
    "        print(f'{Error = }')\n",
    "        dE_dw = (A_1 - y) * activation(Z_1, f_1, 'B') * x\n",
    "        print(f'{dE_dw = }')\n",
    "        W_0 = W_0 - lr*dE_dw\n",
    "        print(f'{W_0 = }')"
   ]
  }
 ],
 "metadata": {
  "kernelspec": {
   "display_name": "Python 3 (ipykernel)",
   "language": "python",
   "name": "python3"
  },
  "language_info": {
   "codemirror_mode": {
    "name": "ipython",
    "version": 3
   },
   "file_extension": ".py",
   "mimetype": "text/x-python",
   "name": "python",
   "nbconvert_exporter": "python",
   "pygments_lexer": "ipython3",
   "version": "3.11.11"
  }
 },
 "nbformat": 4,
 "nbformat_minor": 5
}
