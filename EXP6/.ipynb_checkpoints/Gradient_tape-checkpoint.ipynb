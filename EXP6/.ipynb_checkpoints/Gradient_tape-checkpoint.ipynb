{
 "cells": [
  {
   "cell_type": "code",
   "execution_count": 1,
   "id": "59b2848c-aa5d-44fc-b8f2-1495e6cb4c0e",
   "metadata": {},
   "outputs": [
    {
     "name": "stdout",
     "output_type": "stream",
     "text": [
      "Package                   Version\n",
      "------------------------- -----------\n",
      "anyio                     4.6.2\n",
      "argon2-cffi               21.3.0\n",
      "argon2-cffi-bindings      21.2.0\n",
      "asttokens                 2.0.5\n",
      "async-lru                 2.0.4\n",
      "attrs                     24.3.0\n",
      "Babel                     2.11.0\n",
      "beautifulsoup4            4.12.3\n",
      "bleach                    6.2.0\n",
      "Brotli                    1.0.9\n",
      "certifi                   2024.12.14\n",
      "cffi                      1.17.1\n",
      "charset-normalizer        3.3.2\n",
      "colorama                  0.4.6\n",
      "comm                      0.2.1\n",
      "debugpy                   1.8.11\n",
      "decorator                 5.1.1\n",
      "defusedxml                0.7.1\n",
      "executing                 0.8.3\n",
      "fastjsonschema            2.20.0\n",
      "h11                       0.14.0\n",
      "httpcore                  1.0.2\n",
      "httpx                     0.27.0\n",
      "idna                      3.7\n",
      "ipykernel                 6.29.5\n",
      "ipython                   8.30.0\n",
      "ipywidgets                8.1.5\n",
      "jedi                      0.19.2\n",
      "Jinja2                    3.1.4\n",
      "json5                     0.9.25\n",
      "jsonschema                4.23.0\n",
      "jsonschema-specifications 2023.7.1\n",
      "jupyter                   1.0.0\n",
      "jupyter_client            8.6.0\n",
      "jupyter-console           6.6.3\n",
      "jupyter_core              5.7.2\n",
      "jupyter-events            0.10.0\n",
      "jupyter-lsp               2.2.0\n",
      "jupyter_server            2.14.1\n",
      "jupyter_server_terminals  0.4.4\n",
      "jupyterlab                4.2.5\n",
      "jupyterlab-pygments       0.1.2\n",
      "jupyterlab_server         2.27.3\n",
      "jupyterlab_widgets        3.0.13\n",
      "MarkupSafe                2.1.3\n",
      "matplotlib-inline         0.1.6\n",
      "mistune                   2.0.4\n",
      "nbclient                  0.8.0\n",
      "nbconvert                 7.16.4\n",
      "nbformat                  5.10.4\n",
      "nest-asyncio              1.6.0\n",
      "notebook                  7.2.2\n",
      "notebook_shim             0.2.3\n",
      "numpy                     2.2.1\n",
      "overrides                 7.4.0\n",
      "packaging                 24.2\n",
      "pandocfilters             1.5.0\n",
      "parso                     0.8.4\n",
      "pip                       24.2\n",
      "platformdirs              3.10.0\n",
      "ply                       3.11\n",
      "prometheus_client         0.21.0\n",
      "prompt-toolkit            3.0.43\n",
      "psutil                    5.9.0\n",
      "pure-eval                 0.2.2\n",
      "pycparser                 2.21\n",
      "Pygments                  2.15.1\n",
      "PyQt5                     5.15.10\n",
      "PyQt5_sip                 12.13.0\n",
      "PySocks                   1.7.1\n",
      "python-dateutil           2.9.0.post0\n",
      "python-json-logger        3.2.1\n",
      "pytz                      2024.1\n",
      "pywin32                   308\n",
      "pywinpty                  2.0.14\n",
      "PyYAML                    6.0.2\n",
      "pyzmq                     26.2.0\n",
      "qtconsole                 5.6.0\n",
      "QtPy                      2.4.1\n",
      "referencing               0.30.2\n",
      "requests                  2.32.3\n",
      "rfc3339-validator         0.1.4\n",
      "rfc3986-validator         0.1.1\n",
      "rpds-py                   0.22.3\n",
      "Send2Trash                1.8.2\n",
      "setuptools                75.1.0\n",
      "sip                       6.7.12\n",
      "six                       1.16.0\n",
      "sniffio                   1.3.0\n",
      "soupsieve                 2.5\n",
      "stack-data                0.2.0\n",
      "terminado                 0.17.1\n",
      "tinycss2                  1.2.1\n",
      "tornado                   6.4.2\n",
      "traitlets                 5.14.3\n",
      "typing_extensions         4.12.2\n",
      "urllib3                   2.2.3\n",
      "wcwidth                   0.2.5\n",
      "webencodings              0.5.1\n",
      "websocket-client          1.8.0\n",
      "wheel                     0.44.0\n",
      "widgetsnbextension        4.0.13\n",
      "win-inet-pton             1.1.0\n"
     ]
    }
   ],
   "source": [
    "!pip list"
   ]
  },
  {
   "cell_type": "code",
   "execution_count": 2,
   "id": "db279dfb-5761-4a1b-b017-959ecd31d4b0",
   "metadata": {},
   "outputs": [
    {
     "name": "stdout",
     "output_type": "stream",
     "text": [
      "Collecting tensorflow\n",
      "  Downloading tensorflow-2.18.0-cp311-cp311-win_amd64.whl.metadata (3.3 kB)\n",
      "Collecting tensorflow-intel==2.18.0 (from tensorflow)\n",
      "  Downloading tensorflow_intel-2.18.0-cp311-cp311-win_amd64.whl.metadata (4.9 kB)\n",
      "Collecting absl-py>=1.0.0 (from tensorflow-intel==2.18.0->tensorflow)\n",
      "  Downloading absl_py-2.1.0-py3-none-any.whl.metadata (2.3 kB)\n",
      "Collecting astunparse>=1.6.0 (from tensorflow-intel==2.18.0->tensorflow)\n",
      "  Downloading astunparse-1.6.3-py2.py3-none-any.whl.metadata (4.4 kB)\n",
      "Collecting flatbuffers>=24.3.25 (from tensorflow-intel==2.18.0->tensorflow)\n",
      "  Downloading flatbuffers-25.2.10-py2.py3-none-any.whl.metadata (875 bytes)\n",
      "Collecting gast!=0.5.0,!=0.5.1,!=0.5.2,>=0.2.1 (from tensorflow-intel==2.18.0->tensorflow)\n",
      "  Downloading gast-0.6.0-py3-none-any.whl.metadata (1.3 kB)\n",
      "Collecting google-pasta>=0.1.1 (from tensorflow-intel==2.18.0->tensorflow)\n",
      "  Downloading google_pasta-0.2.0-py3-none-any.whl.metadata (814 bytes)\n",
      "Collecting libclang>=13.0.0 (from tensorflow-intel==2.18.0->tensorflow)\n",
      "  Downloading libclang-18.1.1-py2.py3-none-win_amd64.whl.metadata (5.3 kB)\n",
      "Collecting opt-einsum>=2.3.2 (from tensorflow-intel==2.18.0->tensorflow)\n",
      "  Downloading opt_einsum-3.4.0-py3-none-any.whl.metadata (6.3 kB)\n",
      "Requirement already satisfied: packaging in c:\\users\\admin\\.conda\\envs\\sclab\\lib\\site-packages (from tensorflow-intel==2.18.0->tensorflow) (24.2)\n",
      "Collecting protobuf!=4.21.0,!=4.21.1,!=4.21.2,!=4.21.3,!=4.21.4,!=4.21.5,<6.0.0dev,>=3.20.3 (from tensorflow-intel==2.18.0->tensorflow)\n",
      "  Downloading protobuf-5.29.3-cp310-abi3-win_amd64.whl.metadata (592 bytes)\n",
      "Requirement already satisfied: requests<3,>=2.21.0 in c:\\users\\admin\\.conda\\envs\\sclab\\lib\\site-packages (from tensorflow-intel==2.18.0->tensorflow) (2.32.3)\n",
      "Requirement already satisfied: setuptools in c:\\users\\admin\\.conda\\envs\\sclab\\lib\\site-packages (from tensorflow-intel==2.18.0->tensorflow) (75.1.0)\n",
      "Requirement already satisfied: six>=1.12.0 in c:\\users\\admin\\.conda\\envs\\sclab\\lib\\site-packages (from tensorflow-intel==2.18.0->tensorflow) (1.16.0)\n",
      "Collecting termcolor>=1.1.0 (from tensorflow-intel==2.18.0->tensorflow)\n",
      "  Downloading termcolor-2.5.0-py3-none-any.whl.metadata (6.1 kB)\n",
      "Requirement already satisfied: typing-extensions>=3.6.6 in c:\\users\\admin\\.conda\\envs\\sclab\\lib\\site-packages (from tensorflow-intel==2.18.0->tensorflow) (4.12.2)\n",
      "Collecting wrapt>=1.11.0 (from tensorflow-intel==2.18.0->tensorflow)\n",
      "  Downloading wrapt-1.17.2-cp311-cp311-win_amd64.whl.metadata (6.5 kB)\n",
      "Collecting grpcio<2.0,>=1.24.3 (from tensorflow-intel==2.18.0->tensorflow)\n",
      "  Downloading grpcio-1.70.0-cp311-cp311-win_amd64.whl.metadata (4.0 kB)\n",
      "Collecting tensorboard<2.19,>=2.18 (from tensorflow-intel==2.18.0->tensorflow)\n",
      "  Downloading tensorboard-2.18.0-py3-none-any.whl.metadata (1.6 kB)\n",
      "Collecting keras>=3.5.0 (from tensorflow-intel==2.18.0->tensorflow)\n",
      "  Downloading keras-3.8.0-py3-none-any.whl.metadata (5.8 kB)\n",
      "Collecting numpy<2.1.0,>=1.26.0 (from tensorflow-intel==2.18.0->tensorflow)\n",
      "  Downloading numpy-2.0.2-cp311-cp311-win_amd64.whl.metadata (59 kB)\n",
      "Collecting h5py>=3.11.0 (from tensorflow-intel==2.18.0->tensorflow)\n",
      "  Downloading h5py-3.13.0-cp311-cp311-win_amd64.whl.metadata (2.5 kB)\n",
      "Collecting ml-dtypes<0.5.0,>=0.4.0 (from tensorflow-intel==2.18.0->tensorflow)\n",
      "  Downloading ml_dtypes-0.4.1-cp311-cp311-win_amd64.whl.metadata (20 kB)\n",
      "Collecting tensorflow-io-gcs-filesystem>=0.23.1 (from tensorflow-intel==2.18.0->tensorflow)\n",
      "  Downloading tensorflow_io_gcs_filesystem-0.31.0-cp311-cp311-win_amd64.whl.metadata (14 kB)\n",
      "Requirement already satisfied: wheel<1.0,>=0.23.0 in c:\\users\\admin\\.conda\\envs\\sclab\\lib\\site-packages (from astunparse>=1.6.0->tensorflow-intel==2.18.0->tensorflow) (0.44.0)\n",
      "Collecting rich (from keras>=3.5.0->tensorflow-intel==2.18.0->tensorflow)\n",
      "  Downloading rich-13.9.4-py3-none-any.whl.metadata (18 kB)\n",
      "Collecting namex (from keras>=3.5.0->tensorflow-intel==2.18.0->tensorflow)\n",
      "  Downloading namex-0.0.8-py3-none-any.whl.metadata (246 bytes)\n",
      "Collecting optree (from keras>=3.5.0->tensorflow-intel==2.18.0->tensorflow)\n",
      "  Downloading optree-0.14.0-cp311-cp311-win_amd64.whl.metadata (48 kB)\n",
      "Requirement already satisfied: charset-normalizer<4,>=2 in c:\\users\\admin\\.conda\\envs\\sclab\\lib\\site-packages (from requests<3,>=2.21.0->tensorflow-intel==2.18.0->tensorflow) (3.3.2)\n",
      "Requirement already satisfied: idna<4,>=2.5 in c:\\users\\admin\\.conda\\envs\\sclab\\lib\\site-packages (from requests<3,>=2.21.0->tensorflow-intel==2.18.0->tensorflow) (3.7)\n",
      "Requirement already satisfied: urllib3<3,>=1.21.1 in c:\\users\\admin\\.conda\\envs\\sclab\\lib\\site-packages (from requests<3,>=2.21.0->tensorflow-intel==2.18.0->tensorflow) (2.2.3)\n",
      "Requirement already satisfied: certifi>=2017.4.17 in c:\\users\\admin\\.conda\\envs\\sclab\\lib\\site-packages (from requests<3,>=2.21.0->tensorflow-intel==2.18.0->tensorflow) (2024.12.14)\n",
      "Collecting markdown>=2.6.8 (from tensorboard<2.19,>=2.18->tensorflow-intel==2.18.0->tensorflow)\n",
      "  Downloading Markdown-3.7-py3-none-any.whl.metadata (7.0 kB)\n",
      "Collecting tensorboard-data-server<0.8.0,>=0.7.0 (from tensorboard<2.19,>=2.18->tensorflow-intel==2.18.0->tensorflow)\n",
      "  Downloading tensorboard_data_server-0.7.2-py3-none-any.whl.metadata (1.1 kB)\n",
      "Collecting werkzeug>=1.0.1 (from tensorboard<2.19,>=2.18->tensorflow-intel==2.18.0->tensorflow)\n",
      "  Downloading werkzeug-3.1.3-py3-none-any.whl.metadata (3.7 kB)\n",
      "Requirement already satisfied: MarkupSafe>=2.1.1 in c:\\users\\admin\\.conda\\envs\\sclab\\lib\\site-packages (from werkzeug>=1.0.1->tensorboard<2.19,>=2.18->tensorflow-intel==2.18.0->tensorflow) (2.1.3)\n",
      "Collecting markdown-it-py>=2.2.0 (from rich->keras>=3.5.0->tensorflow-intel==2.18.0->tensorflow)\n",
      "  Downloading markdown_it_py-3.0.0-py3-none-any.whl.metadata (6.9 kB)\n",
      "Requirement already satisfied: pygments<3.0.0,>=2.13.0 in c:\\users\\admin\\.conda\\envs\\sclab\\lib\\site-packages (from rich->keras>=3.5.0->tensorflow-intel==2.18.0->tensorflow) (2.15.1)\n",
      "Collecting mdurl~=0.1 (from markdown-it-py>=2.2.0->rich->keras>=3.5.0->tensorflow-intel==2.18.0->tensorflow)\n",
      "  Downloading mdurl-0.1.2-py3-none-any.whl.metadata (1.6 kB)\n",
      "Downloading tensorflow-2.18.0-cp311-cp311-win_amd64.whl (7.5 kB)\n",
      "Downloading tensorflow_intel-2.18.0-cp311-cp311-win_amd64.whl (390.2 MB)\n",
      "   ---------------------------------------- 0.0/390.2 MB ? eta -:--:--\n",
      "   - -------------------------------------- 16.0/390.2 MB 77.5 MB/s eta 0:00:05\n",
      "   --- ------------------------------------ 34.1/390.2 MB 80.3 MB/s eta 0:00:05\n",
      "   ----- ---------------------------------- 51.4/390.2 MB 81.8 MB/s eta 0:00:05\n",
      "   ------ --------------------------------- 62.9/390.2 MB 78.7 MB/s eta 0:00:05\n",
      "   ------- -------------------------------- 72.1/390.2 MB 69.7 MB/s eta 0:00:05\n",
      "   -------- ------------------------------- 86.5/390.2 MB 69.9 MB/s eta 0:00:05\n",
      "   ---------- ---------------------------- 102.5/390.2 MB 71.1 MB/s eta 0:00:05\n",
      "   ----------- --------------------------- 120.1/390.2 MB 73.0 MB/s eta 0:00:04\n",
      "   ------------- ------------------------- 137.9/390.2 MB 74.0 MB/s eta 0:00:04\n",
      "   --------------- ----------------------- 153.9/390.2 MB 74.5 MB/s eta 0:00:04\n",
      "   ---------------- ---------------------- 168.3/390.2 MB 74.2 MB/s eta 0:00:03\n",
      "   ------------------ -------------------- 181.9/390.2 MB 74.1 MB/s eta 0:00:03\n",
      "   ------------------- ------------------- 196.1/390.2 MB 73.3 MB/s eta 0:00:03\n",
      "   --------------------- ----------------- 210.8/390.2 MB 73.2 MB/s eta 0:00:03\n",
      "   ---------------------- ---------------- 226.2/390.2 MB 73.1 MB/s eta 0:00:03\n",
      "   ----------------------- --------------- 239.1/390.2 MB 72.8 MB/s eta 0:00:03\n",
      "   ------------------------- ------------- 254.5/390.2 MB 72.3 MB/s eta 0:00:02\n",
      "   --------------------------- ----------- 272.1/390.2 MB 72.9 MB/s eta 0:00:02\n",
      "   ---------------------------- ---------- 289.4/390.2 MB 72.9 MB/s eta 0:00:02\n",
      "   ----------------------------- --------- 296.0/390.2 MB 71.3 MB/s eta 0:00:02\n",
      "   ------------------------------ -------- 309.3/390.2 MB 69.0 MB/s eta 0:00:02\n",
      "   -------------------------------- ------ 326.1/390.2 MB 70.7 MB/s eta 0:00:01\n",
      "   --------------------------------- ----- 332.7/390.2 MB 69.5 MB/s eta 0:00:01\n",
      "   ---------------------------------- ---- 349.4/390.2 MB 69.8 MB/s eta 0:00:01\n",
      "   ------------------------------------ -- 362.3/390.2 MB 69.0 MB/s eta 0:00:01\n",
      "   ------------------------------------- - 375.4/390.2 MB 67.9 MB/s eta 0:00:01\n",
      "   --------------------------------------  390.1/390.2 MB 67.6 MB/s eta 0:00:01\n",
      "   --------------------------------------  390.1/390.2 MB 67.6 MB/s eta 0:00:01\n",
      "   --------------------------------------  390.1/390.2 MB 67.6 MB/s eta 0:00:01\n",
      "   --------------------------------------  390.1/390.2 MB 67.6 MB/s eta 0:00:01\n",
      "   --------------------------------------- 390.2/390.2 MB 56.8 MB/s eta 0:00:00\n",
      "Downloading absl_py-2.1.0-py3-none-any.whl (133 kB)\n",
      "Downloading astunparse-1.6.3-py2.py3-none-any.whl (12 kB)\n",
      "Downloading flatbuffers-25.2.10-py2.py3-none-any.whl (30 kB)\n",
      "Downloading gast-0.6.0-py3-none-any.whl (21 kB)\n",
      "Downloading google_pasta-0.2.0-py3-none-any.whl (57 kB)\n",
      "Downloading grpcio-1.70.0-cp311-cp311-win_amd64.whl (4.3 MB)\n",
      "   ---------------------------------------- 0.0/4.3 MB ? eta -:--:--\n",
      "   ---------------------------------------- 4.3/4.3 MB 65.2 MB/s eta 0:00:00\n",
      "Downloading h5py-3.13.0-cp311-cp311-win_amd64.whl (3.0 MB)\n",
      "   ---------------------------------------- 0.0/3.0 MB ? eta -:--:--\n",
      "   ---------------------------------------- 3.0/3.0 MB 87.2 MB/s eta 0:00:00\n",
      "Downloading keras-3.8.0-py3-none-any.whl (1.3 MB)\n",
      "   ---------------------------------------- 0.0/1.3 MB ? eta -:--:--\n",
      "   ---------------------------------------- 1.3/1.3 MB 69.3 MB/s eta 0:00:00\n",
      "Downloading libclang-18.1.1-py2.py3-none-win_amd64.whl (26.4 MB)\n",
      "   ---------------------------------------- 0.0/26.4 MB ? eta -:--:--\n",
      "   ------------------------- -------------- 17.0/26.4 MB 82.6 MB/s eta 0:00:01\n",
      "   ---------------------------------------- 26.4/26.4 MB 69.7 MB/s eta 0:00:00\n",
      "Downloading ml_dtypes-0.4.1-cp311-cp311-win_amd64.whl (126 kB)\n",
      "Downloading numpy-2.0.2-cp311-cp311-win_amd64.whl (15.9 MB)\n",
      "   ---------------------------------------- 0.0/15.9 MB ? eta -:--:--\n",
      "   ---------------------------------------  15.7/15.9 MB 82.7 MB/s eta 0:00:01\n",
      "   ---------------------------------------- 15.9/15.9 MB 71.8 MB/s eta 0:00:00\n",
      "Downloading opt_einsum-3.4.0-py3-none-any.whl (71 kB)\n",
      "Downloading protobuf-5.29.3-cp310-abi3-win_amd64.whl (434 kB)\n",
      "Downloading tensorboard-2.18.0-py3-none-any.whl (5.5 MB)\n",
      "   ---------------------------------------- 0.0/5.5 MB ? eta -:--:--\n",
      "   ---------------------------------------- 5.5/5.5 MB 67.2 MB/s eta 0:00:00\n",
      "Downloading tensorflow_io_gcs_filesystem-0.31.0-cp311-cp311-win_amd64.whl (1.5 MB)\n",
      "   ---------------------------------------- 0.0/1.5 MB ? eta -:--:--\n",
      "   ---------------------------------------- 1.5/1.5 MB 39.5 MB/s eta 0:00:00\n",
      "Downloading termcolor-2.5.0-py3-none-any.whl (7.8 kB)\n",
      "Downloading wrapt-1.17.2-cp311-cp311-win_amd64.whl (38 kB)\n",
      "Downloading Markdown-3.7-py3-none-any.whl (106 kB)\n",
      "Downloading tensorboard_data_server-0.7.2-py3-none-any.whl (2.4 kB)\n",
      "Downloading werkzeug-3.1.3-py3-none-any.whl (224 kB)\n",
      "Downloading namex-0.0.8-py3-none-any.whl (5.8 kB)\n",
      "Downloading optree-0.14.0-cp311-cp311-win_amd64.whl (300 kB)\n",
      "Downloading rich-13.9.4-py3-none-any.whl (242 kB)\n",
      "Downloading markdown_it_py-3.0.0-py3-none-any.whl (87 kB)\n",
      "Downloading mdurl-0.1.2-py3-none-any.whl (10.0 kB)\n",
      "Installing collected packages: namex, libclang, flatbuffers, wrapt, werkzeug, termcolor, tensorflow-io-gcs-filesystem, tensorboard-data-server, protobuf, optree, opt-einsum, numpy, mdurl, markdown, grpcio, google-pasta, gast, astunparse, absl-py, tensorboard, ml-dtypes, markdown-it-py, h5py, rich, keras, tensorflow-intel, tensorflow\n",
      "  Attempting uninstall: numpy\n",
      "    Found existing installation: numpy 2.2.1\n",
      "    Uninstalling numpy-2.2.1:\n",
      "      Successfully uninstalled numpy-2.2.1\n",
      "Successfully installed absl-py-2.1.0 astunparse-1.6.3 flatbuffers-25.2.10 gast-0.6.0 google-pasta-0.2.0 grpcio-1.70.0 h5py-3.13.0 keras-3.8.0 libclang-18.1.1 markdown-3.7 markdown-it-py-3.0.0 mdurl-0.1.2 ml-dtypes-0.4.1 namex-0.0.8 numpy-2.0.2 opt-einsum-3.4.0 optree-0.14.0 protobuf-5.29.3 rich-13.9.4 tensorboard-2.18.0 tensorboard-data-server-0.7.2 tensorflow-2.18.0 tensorflow-intel-2.18.0 tensorflow-io-gcs-filesystem-0.31.0 termcolor-2.5.0 werkzeug-3.1.3 wrapt-1.17.2\n"
     ]
    }
   ],
   "source": [
    "!pip install tensorflow"
   ]
  },
  {
   "cell_type": "code",
   "execution_count": 3,
   "id": "53b01fda-c23d-4ee3-bc69-755bcf0db728",
   "metadata": {},
   "outputs": [
    {
     "name": "stdout",
     "output_type": "stream",
     "text": [
      "Collecting matplotlib\n",
      "  Downloading matplotlib-3.10.0-cp311-cp311-win_amd64.whl.metadata (11 kB)\n",
      "Collecting contourpy>=1.0.1 (from matplotlib)\n",
      "  Downloading contourpy-1.3.1-cp311-cp311-win_amd64.whl.metadata (5.4 kB)\n",
      "Collecting cycler>=0.10 (from matplotlib)\n",
      "  Using cached cycler-0.12.1-py3-none-any.whl.metadata (3.8 kB)\n",
      "Collecting fonttools>=4.22.0 (from matplotlib)\n",
      "  Downloading fonttools-4.56.0-cp311-cp311-win_amd64.whl.metadata (103 kB)\n",
      "Collecting kiwisolver>=1.3.1 (from matplotlib)\n",
      "  Downloading kiwisolver-1.4.8-cp311-cp311-win_amd64.whl.metadata (6.3 kB)\n",
      "Requirement already satisfied: numpy>=1.23 in c:\\users\\admin\\.conda\\envs\\sclab\\lib\\site-packages (from matplotlib) (2.0.2)\n",
      "Requirement already satisfied: packaging>=20.0 in c:\\users\\admin\\.conda\\envs\\sclab\\lib\\site-packages (from matplotlib) (24.2)\n",
      "Collecting pillow>=8 (from matplotlib)\n",
      "  Downloading pillow-11.1.0-cp311-cp311-win_amd64.whl.metadata (9.3 kB)\n",
      "Collecting pyparsing>=2.3.1 (from matplotlib)\n",
      "  Downloading pyparsing-3.2.1-py3-none-any.whl.metadata (5.0 kB)\n",
      "Requirement already satisfied: python-dateutil>=2.7 in c:\\users\\admin\\.conda\\envs\\sclab\\lib\\site-packages (from matplotlib) (2.9.0.post0)\n",
      "Requirement already satisfied: six>=1.5 in c:\\users\\admin\\.conda\\envs\\sclab\\lib\\site-packages (from python-dateutil>=2.7->matplotlib) (1.16.0)\n",
      "Downloading matplotlib-3.10.0-cp311-cp311-win_amd64.whl (8.0 MB)\n",
      "   ---------------------------------------- 0.0/8.0 MB ? eta -:--:--\n",
      "   --------------- ------------------------ 3.1/8.0 MB 20.5 MB/s eta 0:00:01\n",
      "   ---------------------------------------- 8.0/8.0 MB 21.6 MB/s eta 0:00:00\n",
      "Downloading contourpy-1.3.1-cp311-cp311-win_amd64.whl (219 kB)\n",
      "Using cached cycler-0.12.1-py3-none-any.whl (8.3 kB)\n",
      "Downloading fonttools-4.56.0-cp311-cp311-win_amd64.whl (2.2 MB)\n",
      "   ---------------------------------------- 0.0/2.2 MB ? eta -:--:--\n",
      "   ---------------------------------------- 2.2/2.2 MB 62.5 MB/s eta 0:00:00\n",
      "Downloading kiwisolver-1.4.8-cp311-cp311-win_amd64.whl (71 kB)\n",
      "Downloading pillow-11.1.0-cp311-cp311-win_amd64.whl (2.6 MB)\n",
      "   ---------------------------------------- 0.0/2.6 MB ? eta -:--:--\n",
      "   ---------------------------------------- 2.6/2.6 MB 50.3 MB/s eta 0:00:00\n",
      "Downloading pyparsing-3.2.1-py3-none-any.whl (107 kB)\n",
      "Installing collected packages: pyparsing, pillow, kiwisolver, fonttools, cycler, contourpy, matplotlib\n",
      "Successfully installed contourpy-1.3.1 cycler-0.12.1 fonttools-4.56.0 kiwisolver-1.4.8 matplotlib-3.10.0 pillow-11.1.0 pyparsing-3.2.1\n"
     ]
    }
   ],
   "source": [
    "!pip install matplotlib"
   ]
  },
  {
   "cell_type": "markdown",
   "id": "84f5af31-c16d-4f11-b615-c24c87f041ce",
   "metadata": {},
   "source": [
    "#### Load library"
   ]
  },
  {
   "cell_type": "code",
   "execution_count": 1,
   "id": "827af3f0-519c-4237-901c-596ae1b16014",
   "metadata": {},
   "outputs": [],
   "source": [
    "import numpy as np\n",
    "import matplotlib.pyplot as plt\n",
    "import tensorflow as tf"
   ]
  },
  {
   "cell_type": "code",
   "execution_count": 21,
   "id": "85043edf-97f0-4e3a-b5e9-9c02061fedcf",
   "metadata": {},
   "outputs": [
    {
     "data": {
      "text/plain": [
       "(tensorflow.python.framework.ops.EagerTensor, TensorShape([]), tf.float32)"
      ]
     },
     "execution_count": 21,
     "metadata": {},
     "output_type": "execute_result"
    }
   ],
   "source": [
    "a = tf.constant(3e-38)\n",
    "type(a), a.shape, a.dtype"
   ]
  },
  {
   "cell_type": "code",
   "execution_count": 7,
   "id": "f8ce54cd-3d85-4b04-9293-5edefa2369e2",
   "metadata": {},
   "outputs": [
    {
     "data": {
      "text/plain": [
       "(tensorflow.python.framework.ops.EagerTensor, TensorShape([3]), tf.float32)"
      ]
     },
     "execution_count": 7,
     "metadata": {},
     "output_type": "execute_result"
    }
   ],
   "source": [
    "a = tf.constant([3, 2, 3.])\n",
    "type(a), a.shape, a.dtype"
   ]
  },
  {
   "cell_type": "code",
   "execution_count": 22,
   "id": "2425a771-59d6-4013-8b06-70a1b5053f0e",
   "metadata": {},
   "outputs": [
    {
     "data": {
      "text/plain": [
       "(tensorflow.python.ops.resource_variable_ops.ResourceVariable,\n",
       " TensorShape([2, 3]),\n",
       " tf.float32)"
      ]
     },
     "execution_count": 22,
     "metadata": {},
     "output_type": "execute_result"
    }
   ],
   "source": [
    "a = tf.Variable([[3, 2., 3], [3, 2, 3]])\n",
    "type(a), a.shape, a.dtype"
   ]
  },
  {
   "cell_type": "code",
   "execution_count": 26,
   "id": "8d4323e9-3cbb-4ea3-8e59-68271bd283e4",
   "metadata": {},
   "outputs": [
    {
     "data": {
      "text/plain": [
       "(tensorflow.python.ops.resource_variable_ops.ResourceVariable,\n",
       " TensorShape([1, 1, 1, 2, 3]),\n",
       " tf.int32)"
      ]
     },
     "execution_count": 26,
     "metadata": {},
     "output_type": "execute_result"
    }
   ],
   "source": [
    "a = tf.Variable([[[[[3, 2, 3], [3, 2, 3]],]]])\n",
    "type(a), a.shape, a.dtype"
   ]
  },
  {
   "cell_type": "code",
   "execution_count": 13,
   "id": "29016618-723e-439e-83a8-b1f12c5e2d0f",
   "metadata": {},
   "outputs": [
    {
     "data": {
      "text/plain": [
       "(tensorflow.python.ops.resource_variable_ops.ResourceVariable,\n",
       " TensorShape([2, 2, 3]),\n",
       " tf.int32)"
      ]
     },
     "execution_count": 13,
     "metadata": {},
     "output_type": "execute_result"
    }
   ],
   "source": [
    "a = tf.Variable([[[3, 2, 3], [3, 2, 3]],[[3, 2, 3], [3, 2, 3]]])\n",
    "type(a), a.shape, a.dtype"
   ]
  },
  {
   "cell_type": "markdown",
   "id": "e1cd43ae-3648-4ccb-bb00-9b0dd95c0b2d",
   "metadata": {},
   "source": [
    "#### Gradient tape"
   ]
  },
  {
   "cell_type": "code",
   "execution_count": 34,
   "id": "1a60f2c3-4966-4e8d-bc70-24211dad8611",
   "metadata": {},
   "outputs": [],
   "source": [
    "a = tf.constant([2.])\n",
    "x = tf.Variable([3.,4])\n",
    "y = 2*x + a"
   ]
  },
  {
   "cell_type": "code",
   "execution_count": 35,
   "id": "271373f3-a4f7-4dd3-978f-79f42774c1ee",
   "metadata": {},
   "outputs": [
    {
     "data": {
      "text/plain": [
       "(TensorShape([2]), tf.float32, array([ 8., 10.], dtype=float32))"
      ]
     },
     "execution_count": 35,
     "metadata": {},
     "output_type": "execute_result"
    }
   ],
   "source": [
    "y.shape, y.dtype, y.numpy()"
   ]
  },
  {
   "cell_type": "code",
   "execution_count": 41,
   "id": "e4d8ca8a-2414-4065-851e-c98e65738d10",
   "metadata": {},
   "outputs": [],
   "source": [
    "with tf.GradientTape(persistent=True) as tape:\n",
    "    tape.watch(x)\n",
    "    y = 2*x**1 + a"
   ]
  },
  {
   "cell_type": "code",
   "execution_count": 42,
   "id": "cc889cad-04e7-4166-9935-b3c10342d4fc",
   "metadata": {},
   "outputs": [
    {
     "data": {
      "text/plain": [
       "array([2., 2.], dtype=float32)"
      ]
     },
     "execution_count": 42,
     "metadata": {},
     "output_type": "execute_result"
    }
   ],
   "source": [
    "dy_dx = tape.gradient(y, x).numpy()\n",
    "dy_dx"
   ]
  },
  {
   "cell_type": "code",
   "execution_count": 43,
   "id": "bcb29b33-2023-49fa-9f91-2bedddfb993e",
   "metadata": {},
   "outputs": [],
   "source": [
    "a = tf.constant([2.])\n",
    "w1 = tf.Variable([3.,])\n",
    "w2 = tf.Variable([1.,])\n",
    "\n",
    "with tf.GradientTape(persistent=True) as tape:\n",
    "    tape.watch(w1)\n",
    "    tape.watch(w2)\n",
    "    \n",
    "    y = 2*w1**2 + w2**3 + a"
   ]
  },
  {
   "cell_type": "code",
   "execution_count": 45,
   "id": "b3e62a5e-449e-4ce2-95e2-6722207dabd1",
   "metadata": {},
   "outputs": [
    {
     "data": {
      "text/plain": [
       "(array([12.], dtype=float32), array([3.], dtype=float32))"
      ]
     },
     "execution_count": 45,
     "metadata": {},
     "output_type": "execute_result"
    }
   ],
   "source": [
    "dy_dw1, dy_dw2 = tape.gradient(y, [w1, w2])\n",
    "dy_dw1.numpy(), dy_dw2.numpy()"
   ]
  },
  {
   "cell_type": "code",
   "execution_count": 46,
   "id": "03155e81-a7aa-4d64-b75b-cc416511791e",
   "metadata": {},
   "outputs": [],
   "source": [
    "a = tf.constant([2.])\n",
    "W = tf.Variable([3., 2.])\n",
    "\n",
    "with tf.GradientTape(persistent=True) as tape:\n",
    "    tape.watch(W)\n",
    "    \n",
    "    y = 2*W[0]**2 + W[1]**3 + a"
   ]
  },
  {
   "cell_type": "code",
   "execution_count": 48,
   "id": "68d8eaee-bb24-4b05-8eb1-5212e4f524b4",
   "metadata": {},
   "outputs": [
    {
     "data": {
      "text/plain": [
       "<tf.Tensor: shape=(2,), dtype=float32, numpy=array([12., 12.], dtype=float32)>"
      ]
     },
     "execution_count": 48,
     "metadata": {},
     "output_type": "execute_result"
    }
   ],
   "source": [
    "tape.gradient(y, W)"
   ]
  },
  {
   "cell_type": "markdown",
   "id": "d8cdbb68-f813-4dfa-bca9-139087ba8e59",
   "metadata": {},
   "source": [
    "#### Sigmoid derivative"
   ]
  },
  {
   "cell_type": "code",
   "execution_count": 22,
   "id": "83a97d0e-3e37-4862-b2c4-71f3a2481897",
   "metadata": {},
   "outputs": [],
   "source": [
    "x = tf.Variable([3.,])\n",
    "\n",
    "with tf.GradientTape(persistent=True) as tape:\n",
    "    tape.watch(x)\n",
    "    \n",
    "    y = 1/(1 + tf.exp(-x))\n",
    "\n",
    "dy_dx = tape.gradient(y, x)"
   ]
  },
  {
   "cell_type": "code",
   "execution_count": 23,
   "id": "b35f931d-6e8a-40d0-b480-e31606719267",
   "metadata": {},
   "outputs": [
    {
     "data": {
      "text/plain": [
       "(<tf.Tensor: shape=(1,), dtype=float32, numpy=array([0.95257413], dtype=float32)>,\n",
       " <tf.Tensor: shape=(1,), dtype=float32, numpy=array([0.04517666], dtype=float32)>)"
      ]
     },
     "execution_count": 23,
     "metadata": {},
     "output_type": "execute_result"
    }
   ],
   "source": [
    "y, dy_dx"
   ]
  },
  {
   "cell_type": "code",
   "execution_count": 49,
   "id": "14708535-5c74-423a-8675-34dddd21081f",
   "metadata": {},
   "outputs": [],
   "source": [
    "x = tf.Variable(np.arange(-5, 5, 0.1))\n",
    "\n",
    "with tf.GradientTape(persistent=True) as tape:\n",
    "    tape.watch(x)\n",
    "    y = 1/(1 + tf.exp(-x))\n",
    "\n",
    "dy_dx = tape.gradient(y, x)"
   ]
  },
  {
   "cell_type": "code",
   "execution_count": 50,
   "id": "c9582768-8925-4ac1-819e-cd7f99239d92",
   "metadata": {},
   "outputs": [
    {
     "data": {
      "image/png": "[encoded data removed]",
      "text/plain": [
       "<Figure size 640x480 with 1 Axes>"
      ]
     },
     "metadata": {},
     "output_type": "display_data"
    }
   ],
   "source": [
    "plt.plot(x.numpy(), y.numpy(), 'b')\n",
    "plt.plot(x.numpy(), dy_dx.numpy(), 'r')\n",
    "plt.show()"
   ]
  },
  {
   "cell_type": "markdown",
   "id": "476a72cf-b0bc-4fca-94e1-fe94e759d273",
   "metadata": {},
   "source": [
    "#### Bipoolar Sigmoidal"
   ]
  },
  {
   "cell_type": "code",
   "execution_count": 30,
   "id": "c5028670-bea0-4d64-a04f-94cd8a1a293e",
   "metadata": {},
   "outputs": [],
   "source": [
    "q1 = tf.Variable(np.arange(-5,5,0.1))"
   ]
  },
  {
   "cell_type": "code",
   "execution_count": 31,
   "id": "078d37c3-87e2-47ae-b5d8-9f0ab3d7406f",
   "metadata": {},
   "outputs": [],
   "source": [
    "with tf.GradientTape(persistent=True) as tape:\n",
    "    tape.watch(q1)\n",
    "    y1 = (1 - tf.exp(-q1))/(1 + tf.exp(-q1))"
   ]
  },
  {
   "cell_type": "code",
   "execution_count": 32,
   "id": "e20d2e8b-e314-42b2-b7e1-2766726a8817",
   "metadata": {},
   "outputs": [],
   "source": [
    "dy_dq1 =  tape.gradient(y1,q1)"
   ]
  },
  {
   "cell_type": "code",
   "execution_count": 33,
   "id": "2f508c7c-394d-4630-9354-d850932d545e",
   "metadata": {},
   "outputs": [
    {
     "data": {
      "image/png": "[encoded data removed]",
      "text/plain": [
       "<Figure size 640x480 with 1 Axes>"
      ]
     },
     "metadata": {},
     "output_type": "display_data"
    }
   ],
   "source": [
    "plt.plot(q1.numpy(), y1.numpy(), 'b')\n",
    "plt.plot(q1.numpy(), dy_dq1.numpy(), 'r')\n",
    "plt.show()"
   ]
  },
  {
   "cell_type": "markdown",
   "id": "8e239df9-326a-40ca-bd45-d62455f97629",
   "metadata": {},
   "source": [
    "#### Linear "
   ]
  },
  {
   "cell_type": "code",
   "execution_count": 114,
   "id": "b55841fb-0766-4cb8-aca4-2c7cb1c7bfe4",
   "metadata": {},
   "outputs": [],
   "source": [
    "l = tf.Variable(np.arange(-5,5,0.1))"
   ]
  },
  {
   "cell_type": "code",
   "execution_count": 115,
   "id": "98d80e72-4e2d-47e4-b2dc-8599fb9f9a97",
   "metadata": {},
   "outputs": [],
   "source": [
    "with tf.GradientTape(persistent=True) as tape:\n",
    "    tape.watch(l)\n",
    "    y2 = l"
   ]
  },
  {
   "cell_type": "code",
   "execution_count": 116,
   "id": "8f3e301b-f2b4-4a5f-afe6-96cfaba08090",
   "metadata": {},
   "outputs": [],
   "source": [
    "dy_dq1 =  tape.gradient(y2,l)"
   ]
  },
  {
   "cell_type": "code",
   "execution_count": 117,
   "id": "5cc2c6c5-42aa-4184-8e33-d4d4cc780973",
   "metadata": {},
   "outputs": [
    {
     "data": {
      "image/png": "[encoded data removed]",
      "text/plain": [
       "<Figure size 640x480 with 1 Axes>"
      ]
     },
     "metadata": {},
     "output_type": "display_data"
    }
   ],
   "source": [
    "plt.plot(l.numpy(), y2.numpy(), 'b')\n",
    "plt.plot(l.numpy(), dy_dq1.numpy(), 'r')\n",
    "plt.show()"
   ]
  },
  {
   "cell_type": "code",
   "execution_count": 118,
   "id": "7644df09-f9e0-4f07-8be1-b63fcd1aa2aa",
   "metadata": {},
   "outputs": [],
   "source": [
    "r = tf.Variable(np.arange(-5,5,0.1))"
   ]
  },
  {
   "cell_type": "code",
   "execution_count": 120,
   "id": "29495293-ac9f-480e-9f28-c40661554552",
   "metadata": {},
   "outputs": [],
   "source": [
    "with tf.GradientTape(persistent=True) as tape:\n",
    "    tape.watch(l)\n",
    "    y3 = tf.keras.activations.relu(r) "
   ]
  },
  {
   "cell_type": "code",
   "execution_count": 121,
   "id": "5b8977bd-e343-4614-903e-111e5e51dedf",
   "metadata": {},
   "outputs": [],
   "source": [
    "dy_dq2 =  tape.gradient(y3,r)\n"
   ]
  },
  {
   "cell_type": "code",
   "execution_count": 123,
   "id": "3d4e64ec-29f7-43f2-8f41-606daace2e7b",
   "metadata": {},
   "outputs": [
    {
     "data": {
      "image/png": "[encoded data removed]",
      "text/plain": [
       "<Figure size 640x480 with 1 Axes>"
      ]
     },
     "metadata": {},
     "output_type": "display_data"
    }
   ],
   "source": [
    "plt.plot(r.numpy(), y3.numpy(), 'b')\n",
    "plt.plot(r.numpy(), dy_dq2.numpy(), 'r')\n",
    "plt.show()"
   ]
  },
  {
   "cell_type": "code",
   "execution_count": null,
   "id": "46864b64-1cf8-4a9c-b027-bcdbb83ec739",
   "metadata": {},
   "outputs": [],
   "source": []
  }
 ],
 "metadata": {
  "kernelspec": {
   "display_name": "Python 3 (ipykernel)",
   "language": "python",
   "name": "python3"
  },
  "language_info": {
   "codemirror_mode": {
    "name": "ipython",
    "version": 3
   },
   "file_extension": ".py",
   "mimetype": "text/x-python",
   "name": "python",
   "nbconvert_exporter": "python",
   "pygments_lexer": "ipython3",
   "version": "3.11.11"
  }
 },
 "nbformat": 4,
 "nbformat_minor": 5
}
