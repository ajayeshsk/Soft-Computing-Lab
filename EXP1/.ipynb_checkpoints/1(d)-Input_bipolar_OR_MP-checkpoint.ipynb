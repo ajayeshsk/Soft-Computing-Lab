{
 "cells": [
  {
   "cell_type": "code",
   "execution_count": 1,
   "id": "28f9e008-f038-436f-914f-9097b4e10076",
   "metadata": {},
   "outputs": [
    {
     "name": "stdout",
     "output_type": "stream",
     "text": [
      "Requirement already satisfied: numpy in c:\\users\\admin\\.conda\\envs\\sclab\\lib\\site-packages (2.2.1)\n"
     ]
    }
   ],
   "source": [
    "!pip install numpy"
   ]
  },
  {
   "cell_type": "code",
   "execution_count": 2,
   "id": "4b9d9f35-0ff4-4080-9680-2f4bbbdb9984",
   "metadata": {},
   "outputs": [],
   "source": [
    "import numpy as np"
   ]
  },
  {
   "cell_type": "markdown",
   "id": "055cf50c-2457-4b1b-9773-706192f44215",
   "metadata": {},
   "source": [
    "### Input"
   ]
  },
  {
   "cell_type": "code",
   "execution_count": 3,
   "id": "01d6e261-4631-440a-8599-4bceb0e93d9b",
   "metadata": {},
   "outputs": [
    {
     "name": "stdout",
     "output_type": "stream",
     "text": [
      "X.shape=(2, 4)\n"
     ]
    }
   ],
   "source": [
    "X = np.array([[-1, -1, 1, 1], [-1, 1, -1, 1]])\n",
    "print(f'{X.shape=}')"
   ]
  },
  {
   "cell_type": "markdown",
   "id": "39be2388-7c93-4c81-bdc8-be9a9d559492",
   "metadata": {},
   "source": [
    "### Parameters"
   ]
  },
  {
   "cell_type": "code",
   "execution_count": 4,
   "id": "31ed3218-4e77-4c3e-b47c-318a0d8897c2",
   "metadata": {},
   "outputs": [
    {
     "name": "stdout",
     "output_type": "stream",
     "text": [
      "W.shape=(1, 2)\n"
     ]
    }
   ],
   "source": [
    "W = np.array([[1, 1]])\n",
    "print(f'{W.shape=}')"
   ]
  },
  {
   "cell_type": "code",
   "execution_count": 5,
   "id": "7cc7baba-a51e-4f17-a8ac-de4e7c7cd684",
   "metadata": {},
   "outputs": [],
   "source": [
    "theta = 0"
   ]
  },
  {
   "cell_type": "markdown",
   "id": "02a84adc-d913-41da-a3e7-a4823b26fa6a",
   "metadata": {},
   "source": [
    "### MP NN"
   ]
  },
  {
   "cell_type": "code",
   "execution_count": 6,
   "id": "10f01fe9-455d-44e7-9cb8-84ec0c86f624",
   "metadata": {},
   "outputs": [
    {
     "name": "stdout",
     "output_type": "stream",
     "text": [
      "Z=array([[-2,  0,  0,  2]])\n"
     ]
    }
   ],
   "source": [
    "Z = W @ X\n",
    "print(f'{Z=}')"
   ]
  },
  {
   "cell_type": "code",
   "execution_count": 8,
   "id": "ae26aa55-55fe-47db-8535-08470417c628",
   "metadata": {},
   "outputs": [
    {
     "name": "stdout",
     "output_type": "stream",
     "text": [
      "y_pred = [-1, 1, 1, 1]\n"
     ]
    }
   ],
   "source": [
    "y_pred = [int(pred >= theta)*2-1 for pred in Z.ravel()]\n",
    "print(f'{y_pred = }')"
   ]
  }
 ],
 "metadata": {
  "kernelspec": {
   "display_name": "Python 3 (ipykernel)",
   "language": "python",
   "name": "python3"
  },
  "language_info": {
   "codemirror_mode": {
    "name": "ipython",
    "version": 3
   },
   "file_extension": ".py",
   "mimetype": "text/x-python",
   "name": "python",
   "nbconvert_exporter": "python",
   "pygments_lexer": "ipython3",
   "version": "3.11.11"
  }
 },
 "nbformat": 4,
 "nbformat_minor": 5
}
