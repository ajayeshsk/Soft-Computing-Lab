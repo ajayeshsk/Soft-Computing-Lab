{
 "cells": [
  {
   "cell_type": "code",
   "execution_count": 2,
   "id": "8964ce26-38e2-40e3-80ed-4035f4b68e06",
   "metadata": {},
   "outputs": [],
   "source": [
    "import numpy as np"
   ]
  },
  {
   "cell_type": "markdown",
   "id": "12d8e4d3-8d46-4cfa-a6bf-85011fa5a83c",
   "metadata": {},
   "source": [
    "## Input"
   ]
  },
  {
   "cell_type": "code",
   "execution_count": 4,
   "id": "3d35c003-dc3e-46d4-80f8-b1c3b031befe",
   "metadata": {},
   "outputs": [
    {
     "name": "stdout",
     "output_type": "stream",
     "text": [
      "X.shape=(2, 4)\n"
     ]
    }
   ],
   "source": [
    "X = np.array([[0, 0, 1, 1], [0, 1, 0, 1]])\n",
    "print(f'{X.shape=}')"
   ]
  },
  {
   "cell_type": "markdown",
   "id": "b4d4a639-7992-4053-8ee2-03a6783bb361",
   "metadata": {},
   "source": [
    "## Parameters"
   ]
  },
  {
   "cell_type": "code",
   "execution_count": 6,
   "id": "31080014-bce3-48d7-832f-528be3d1c6e6",
   "metadata": {},
   "outputs": [
    {
     "name": "stdout",
     "output_type": "stream",
     "text": [
      "W.shape=(1, 2)\n"
     ]
    }
   ],
   "source": [
    "W = np.array([[1, 1]])\n",
    "print(f'{W.shape=}')"
   ]
  },
  {
   "cell_type": "code",
   "execution_count": 8,
   "id": "b6a88377-5b09-41b9-96be-02e7af91c129",
   "metadata": {},
   "outputs": [],
   "source": [
    "theta = 1"
   ]
  },
  {
   "cell_type": "markdown",
   "id": "4c96154c-a266-4c3f-bcb3-0063538b3e25",
   "metadata": {},
   "source": [
    "## MP NN"
   ]
  },
  {
   "cell_type": "code",
   "execution_count": 10,
   "id": "9552608e-8017-44cd-a796-8e26f24537fc",
   "metadata": {},
   "outputs": [
    {
     "name": "stdout",
     "output_type": "stream",
     "text": [
      "Z=array([[0, 1, 1, 2]])\n"
     ]
    }
   ],
   "source": [
    "Z = W @ X\n",
    "print(f'{Z=}')"
   ]
  },
  {
   "cell_type": "code",
   "execution_count": 12,
   "id": "bd15649a-4ae8-4255-ad75-9ab2a1af7d10",
   "metadata": {},
   "outputs": [
    {
     "name": "stdout",
     "output_type": "stream",
     "text": [
      "y_pred = [0, 1, 1, 1]\n"
     ]
    }
   ],
   "source": [
    "y_pred = [int(pred >= theta) for pred in Z.ravel()]\n",
    "print(f'{y_pred = }')"
   ]
  },
  {
   "cell_type": "code",
   "execution_count": null,
   "id": "28e285ce-6971-4caa-afdc-504a592cf510",
   "metadata": {},
   "outputs": [],
   "source": []
  }
 ],
 "metadata": {
  "kernelspec": {
   "display_name": "Python 3 (ipykernel)",
   "language": "python",
   "name": "python3"
  },
  "language_info": {
   "codemirror_mode": {
    "name": "ipython",
    "version": 3
   },
   "file_extension": ".py",
   "mimetype": "text/x-python",
   "name": "python",
   "nbconvert_exporter": "python",
   "pygments_lexer": "ipython3",
   "version": "3.12.7"
  }
 },
 "nbformat": 4,
 "nbformat_minor": 5
}
