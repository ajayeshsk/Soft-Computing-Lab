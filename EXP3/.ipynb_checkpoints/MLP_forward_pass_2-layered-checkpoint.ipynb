{
 "cells": [
  {
   "cell_type": "code",
   "execution_count": 8,
   "id": "01ea614d",
   "metadata": {},
   "outputs": [],
   "source": [
    "import numpy as np\n",
    "np.set_printoptions(precision=4)"
   ]
  },
  {
   "cell_type": "code",
   "execution_count": 9,
   "id": "79e0a92c",
   "metadata": {},
   "outputs": [
    {
     "name": "stdout",
     "output_type": "stream",
     "text": [
      "W_0.shape=(2, 2)\n"
     ]
    }
   ],
   "source": [
    "W_0 = np.array([[1, -1],\n",
    "                [1, -1]], dtype=float)\n",
    "print(f'{W_0.shape=}')"
   ]
  },
  {
   "cell_type": "code",
   "execution_count": 10,
   "id": "e66839dc",
   "metadata": {},
   "outputs": [
    {
     "name": "stdout",
     "output_type": "stream",
     "text": [
      "W_1.shape=(3, 3)\n"
     ]
    }
   ],
   "source": [
    "W_1 = np.array([[-1, 1, 0,],\n",
    "                [0, -1, 1],\n",
    "                [1, 0, -1]], dtype=float)\n",
    "print(f'{W_1.shape=}')"
   ]
  },
  {
   "cell_type": "code",
   "execution_count": 11,
   "id": "50371761",
   "metadata": {},
   "outputs": [
    {
     "name": "stdout",
     "output_type": "stream",
     "text": [
      "X.shape=(2, 3)\n"
     ]
    }
   ],
   "source": [
    "X = np.array([[1, 1, 0],\n",
    "              [0, 1, 1]], dtype=float)\n",
    "print(f'{X.shape=}')"
   ]
  },
  {
   "cell_type": "code",
   "execution_count": 12,
   "id": "6d989bcc",
   "metadata": {},
   "outputs": [],
   "source": [
    "f_1 = 'Lin'\n",
    "f_2 = 'ReLU'"
   ]
  },
  {
   "cell_type": "code",
   "execution_count": 13,
   "id": "1d2fc18d",
   "metadata": {},
   "outputs": [],
   "source": [
    "def USigmoid(x):\n",
    "    return 1/(1 + np.exp(-x))\n",
    "\n",
    "def BSigmoid(x):\n",
    "    return (1 - np.exp(-x))/(1 + np.exp(-x))\n",
    "\n",
    "def ReLU(x):\n",
    "    return np.array([max(i, 0) for i in x])\n",
    "\n",
    "def Lin(x):\n",
    "    return x\n",
    "\n",
    "def activation(Z, fcn='Lin'):\n",
    "    A = np.array(list(map(globals()[fcn], Z)))\n",
    "    return A"
   ]
  },
  {
   "cell_type": "markdown",
   "id": "69dcdf4e",
   "metadata": {},
   "source": [
    "### Forward pass"
   ]
  },
  {
   "cell_type": "code",
   "execution_count": 14,
   "id": "96f032e9",
   "metadata": {},
   "outputs": [
    {
     "name": "stdout",
     "output_type": "stream",
     "text": [
      "No bias\n",
      "A_0 = array([[1., 1., 0.],\n",
      "       [0., 1., 1.]])\n",
      "\n",
      "\n",
      "Input -> Hidden\n",
      "Z_1 = array([[ 1.,  0., -1.],\n",
      "       [ 1.,  0., -1.]])\n",
      "\n",
      "A_1 = array([[ 1.,  0., -1.],\n",
      "       [ 1.,  0., -1.]])\n",
      "\n",
      "\n",
      "Hidden -> Output\n",
      "Pad bias at top of A1\n",
      "A_1 = array([[ 1.,  1.,  1.],\n",
      "       [ 1.,  0., -1.],\n",
      "       [ 1.,  0., -1.]])\n",
      "Z_2 = array([[ 0., -1., -2.],\n",
      "       [ 0.,  0.,  0.],\n",
      "       [ 0.,  1.,  2.]])\n",
      "\n",
      "A_2 = array([[0., 0., 0.],\n",
      "       [0., 0., 0.],\n",
      "       [0., 1., 2.]])\n"
     ]
    }
   ],
   "source": [
    "if X.shape[0] == W_0.shape[1]:\n",
    "    print('No bias')\n",
    "    A_0 = X\n",
    "else:\n",
    "    print('Pad bias at top of input')\n",
    "    A_0 = np.vstack((np.ones((1, X.shape[1])), X))\n",
    "print(f'{A_0 = }')\n",
    "\n",
    "print('\\n\\nInput -> Hidden')\n",
    "Z_1 = W_0 @ A_0\n",
    "print(f'{Z_1 = }', end='\\n\\n')\n",
    "A_1 = activation(Z_1, f_1)  \n",
    "print(f'{A_1 = }')\n",
    "\n",
    "print('\\n\\nHidden -> Output')\n",
    "if A_1.shape[0] == W_1.shape[1]:\n",
    "    print('No bias')\n",
    "else:\n",
    "    print('Pad bias at top of A1')\n",
    "    A_1 = np.vstack((np.ones((1, A_1.shape[1])), A_1))\n",
    "print(f'{A_1 = }')\n",
    "\n",
    "Z_2 = W_1 @ A_1\n",
    "print(f'{Z_2 = }', end='\\n\\n')\n",
    "A_2 = activation(Z_2, f_2)  \n",
    "print(f'{A_2 = }')"
   ]
  },
  {
   "cell_type": "code",
   "execution_count": null,
   "id": "ac583d0a",
   "metadata": {},
   "outputs": [],
   "source": []
  }
 ],
 "metadata": {
  "kernelspec": {
   "display_name": "Python 3 (ipykernel)",
   "language": "python",
   "name": "python3"
  },
  "language_info": {
   "codemirror_mode": {
    "name": "ipython",
    "version": 3
   },
   "file_extension": ".py",
   "mimetype": "text/x-python",
   "name": "python",
   "nbconvert_exporter": "python",
   "pygments_lexer": "ipython3",
   "version": "3.11.11"
  }
 },
 "nbformat": 4,
 "nbformat_minor": 5
}
